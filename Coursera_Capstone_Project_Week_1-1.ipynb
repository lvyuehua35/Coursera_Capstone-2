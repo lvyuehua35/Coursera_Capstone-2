{
 "cells": [
  {
   "cell_type": "markdown",
   "metadata": {},
   "source": [
    "# Capstone Project - The Battle of Neighborhoods (Week 1-1)"
   ]
  },
  {
   "cell_type": "markdown",
   "metadata": {},
   "source": [
    "## 1. Introduction"
   ]
  },
  {
   "cell_type": "markdown",
   "metadata": {},
   "source": [
    "### 1.1 Scenario and Background\n",
    "I am a data scientist currently working in a Property Agency in Singapore. My boss, the stakeholder would like to know the flat price given the address of property, he wants me to predict the flat price without knowing other characteristics such as flat type, area, remaining lease and etc.\n",
    "\n",
    "He also mention that the flat price may be highly related to the environment of the house. Generally, the living would be more convinient if your house is near the metro stations, schools or shopping malls, therefore, the flat price near the more venues would be higher. Moreover, the distance to downtown is also significant effect for house price, as the price will be higher for the properties located nearer downtown.  \n",
    "\n",
    "In this project, I will apply the learned skills during the Coursera course to explore the venues around block address as features of training data and applied some regression algorithms to build the predictive models to solve this problem."
   ]
  },
  {
   "cell_type": "markdown",
   "metadata": {},
   "source": [
    "### 1.2 Challenge to Solve the Problem\n",
    "The challenge to solve this problem is being able to find the venues around given the flat address as features to create the training dataset. Therefore, in order to obtain the all venues, there are some API that will be adopted in sloving this problem:\n",
    "* OneMap API to obtain the coordinates for given flat addresses.\n",
    "* FourSquare API to obtain the venues for each flat."
   ]
  },
  {
   "cell_type": "markdown",
   "metadata": {},
   "source": [
    "### 1.3 Interested Audience\n",
    "I believe this is a relevant project for a Property Agency Company or Government House Agency who would like to predict the house price given the house address, thus, they are able to have some sense what is the house price for the flats to be transacted, subsequantly, they can advise the reasonable price to their potential house buyers or sellers, since the approach and methodologies used here are applicable in all other places. \n",
    "\n",
    "Lastly, this project is a good practical case toward the development of Data Science skills."
   ]
  },
  {
   "cell_type": "code",
   "execution_count": 1,
   "metadata": {},
   "outputs": [],
   "source": [
    "# Continue......"
   ]
  },
  {
   "cell_type": "code",
   "execution_count": null,
   "metadata": {},
   "outputs": [],
   "source": []
  }
 ],
 "metadata": {
  "kernelspec": {
   "display_name": "Python 3",
   "language": "python",
   "name": "python3"
  },
  "language_info": {
   "codemirror_mode": {
    "name": "ipython",
    "version": 3
   },
   "file_extension": ".py",
   "mimetype": "text/x-python",
   "name": "python",
   "nbconvert_exporter": "python",
   "pygments_lexer": "ipython3",
   "version": "3.6.8"
  }
 },
 "nbformat": 4,
 "nbformat_minor": 2
}
