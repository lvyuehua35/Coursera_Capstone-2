{
 "cells": [
  {
   "cell_type": "markdown",
   "metadata": {},
   "source": [
    "# Segmenting and Clustering Neighborhoods in Toronto"
   ]
  },
  {
   "cell_type": "markdown",
   "metadata": {},
   "source": [
    "## Introduction\n",
    "\n",
    "This notebook is created to implement the Coursera assignment about Segmenting and Clustering Neighborhoods in Toronto.\n",
    "\n",
    "We start with scraping the Wikipedia page in order to obtain the data that is in the table of postal codes and to transform the data into a pandas dataframe, then use geocoder to fetch the coordinates data\n",
    "and merge with neighborhood data. Fianlly, we will apply the Foursquare API to explore venues for all neighborhoods in Toronto and analyze and visulize the clustering of neighborhoods."
   ]
  },
  {
   "cell_type": "markdown",
   "metadata": {},
   "source": [
    "## Table of Contents\n",
    "\n",
    "<div class=\"alert alert-block alert-info\" style=\"margin-top: 20px\">\n",
    "\n",
    "<font size = 3>\n",
    "\n",
    "1. <a href=\"#item1\">Download and Explore Dataset</a>\n",
    " \n",
    "</font>\n",
    "</div>"
   ]
  },
  {
   "cell_type": "code",
   "execution_count": 1,
   "metadata": {},
   "outputs": [
    {
     "name": "stdout",
     "output_type": "stream",
     "text": [
      "Libraries imported.\n"
     ]
    }
   ],
   "source": [
    "# Import libraries\n",
    "import pandas as pd\n",
    "import numpy as np\n",
    "from bs4 import BeautifulSoup\n",
    "\n",
    "import requests # library to handle requests\n",
    "\n",
    "print('Libraries imported.')"
   ]
  },
  {
   "cell_type": "markdown",
   "metadata": {},
   "source": [
    "## 1. Download and Explore Dataset"
   ]
  },
  {
   "cell_type": "markdown",
   "metadata": {},
   "source": [
    "We use the 'request' and 'BeautifulSoup' libraries to get the 'lxml' file and then find the all table tags for subsequently dataframe generation."
   ]
  },
  {
   "cell_type": "code",
   "execution_count": 2,
   "metadata": {},
   "outputs": [],
   "source": [
    "website_url = 'https://en.wikipedia.org/wiki/List_of_postal_codes_of_Canada:_M'\n",
    "results = requests.get(website_url).text\n",
    "\n",
    "soup = BeautifulSoup(results, 'lxml')\n",
    "my_table = soup.find('table', {'class': \"wikitable sortable\"})\n",
    "table = my_table.findAll('td')"
   ]
  },
  {
   "cell_type": "markdown",
   "metadata": {},
   "source": [
    "Build a loop to extract all data and store as dictionary."
   ]
  },
  {
   "cell_type": "code",
   "execution_count": 3,
   "metadata": {},
   "outputs": [
    {
     "name": "stdout",
     "output_type": "stream",
     "text": [
      "Store data in dictionary!\n"
     ]
    }
   ],
   "source": [
    "col_list = ['PostCode', 'Borough', 'Neighborhood']\n",
    "data_dict = {}\n",
    "for ind, key in enumerate(col_list):\n",
    "    i = ind\n",
    "    value = []\n",
    "    while i <= len(table)-1:\n",
    "        text = table[i].text\n",
    "        value.append(text)\n",
    "        i += 3\n",
    "    data_dict[key] = value\n",
    "\n",
    "print('Store data in dictionary!')"
   ]
  },
  {
   "cell_type": "markdown",
   "metadata": {},
   "source": [
    "#### Build dataframe and clean the dataset."
   ]
  },
  {
   "cell_type": "code",
   "execution_count": 4,
   "metadata": {},
   "outputs": [],
   "source": [
    "# Build and clean dataframe\n",
    "data_df = pd.DataFrame(data_dict)\n",
    "data_df = data_df[['PostCode', 'Borough', 'Neighborhood']]\n",
    "data_df['Neighborhood'] = data_df['Neighborhood'].apply(lambda x: x.split(\"\\n\")[0])\n",
    "\n",
    "# Drop the cells with Not assigned Borough\n",
    "data_df = data_df[data_df.Borough != 'Not assigned']\n",
    "\n",
    "# A cell has a borough but a Not assigned neighborhood, then the neighborhood will be the same as the borough. \n",
    "data_df['Neighborhood'][data_df.Neighborhood == 'Not assigned'] = data_df[data_df.Neighborhood == 'Not assigned']['Borough']\n",
    "\n",
    "# Two rows are combined into one row with same PostCode and Borough.\n",
    "data_df = data_df.groupby(['PostCode', 'Borough']).agg({'Neighborhood': lambda x: ' , '.join(x)}).reset_index()"
   ]
  },
  {
   "cell_type": "code",
   "execution_count": 5,
   "metadata": {},
   "outputs": [
    {
     "data": {
      "text/html": [
       "<div>\n",
       "<style scoped>\n",
       "    .dataframe tbody tr th:only-of-type {\n",
       "        vertical-align: middle;\n",
       "    }\n",
       "\n",
       "    .dataframe tbody tr th {\n",
       "        vertical-align: top;\n",
       "    }\n",
       "\n",
       "    .dataframe thead th {\n",
       "        text-align: right;\n",
       "    }\n",
       "</style>\n",
       "<table border=\"1\" class=\"dataframe\">\n",
       "  <thead>\n",
       "    <tr style=\"text-align: right;\">\n",
       "      <th></th>\n",
       "      <th>PostCode</th>\n",
       "      <th>Borough</th>\n",
       "      <th>Neighborhood</th>\n",
       "    </tr>\n",
       "  </thead>\n",
       "  <tbody>\n",
       "    <tr>\n",
       "      <th>0</th>\n",
       "      <td>M5H</td>\n",
       "      <td>Downtown Toronto</td>\n",
       "      <td>Adelaide , King , Richmond</td>\n",
       "    </tr>\n",
       "    <tr>\n",
       "      <th>1</th>\n",
       "      <td>M1S</td>\n",
       "      <td>Scarborough</td>\n",
       "      <td>Agincourt</td>\n",
       "    </tr>\n",
       "    <tr>\n",
       "      <th>2</th>\n",
       "      <td>M1V</td>\n",
       "      <td>Scarborough</td>\n",
       "      <td>Agincourt North , L'Amoreaux East , Milliken ,...</td>\n",
       "    </tr>\n",
       "    <tr>\n",
       "      <th>3</th>\n",
       "      <td>M9V</td>\n",
       "      <td>Etobicoke</td>\n",
       "      <td>Albion Gardens , Beaumond Heights , Humbergate...</td>\n",
       "    </tr>\n",
       "    <tr>\n",
       "      <th>4</th>\n",
       "      <td>M8W</td>\n",
       "      <td>Etobicoke</td>\n",
       "      <td>Alderwood , Long Branch</td>\n",
       "    </tr>\n",
       "    <tr>\n",
       "      <th>5</th>\n",
       "      <td>M3H</td>\n",
       "      <td>North York</td>\n",
       "      <td>Bathurst Manor , Downsview North , Wilson Heights</td>\n",
       "    </tr>\n",
       "    <tr>\n",
       "      <th>6</th>\n",
       "      <td>M2K</td>\n",
       "      <td>North York</td>\n",
       "      <td>Bayview Village</td>\n",
       "    </tr>\n",
       "    <tr>\n",
       "      <th>7</th>\n",
       "      <td>M5M</td>\n",
       "      <td>North York</td>\n",
       "      <td>Bedford Park , Lawrence Manor East</td>\n",
       "    </tr>\n",
       "    <tr>\n",
       "      <th>8</th>\n",
       "      <td>M5E</td>\n",
       "      <td>Downtown Toronto</td>\n",
       "      <td>Berczy Park</td>\n",
       "    </tr>\n",
       "    <tr>\n",
       "      <th>9</th>\n",
       "      <td>M1N</td>\n",
       "      <td>Scarborough</td>\n",
       "      <td>Birch Cliff , Cliffside West</td>\n",
       "    </tr>\n",
       "  </tbody>\n",
       "</table>\n",
       "</div>"
      ],
      "text/plain": [
       "  PostCode           Borough  \\\n",
       "0      M5H  Downtown Toronto   \n",
       "1      M1S       Scarborough   \n",
       "2      M1V       Scarborough   \n",
       "3      M9V         Etobicoke   \n",
       "4      M8W         Etobicoke   \n",
       "5      M3H        North York   \n",
       "6      M2K        North York   \n",
       "7      M5M        North York   \n",
       "8      M5E  Downtown Toronto   \n",
       "9      M1N       Scarborough   \n",
       "\n",
       "                                        Neighborhood  \n",
       "0                         Adelaide , King , Richmond  \n",
       "1                                          Agincourt  \n",
       "2  Agincourt North , L'Amoreaux East , Milliken ,...  \n",
       "3  Albion Gardens , Beaumond Heights , Humbergate...  \n",
       "4                            Alderwood , Long Branch  \n",
       "5  Bathurst Manor , Downsview North , Wilson Heights  \n",
       "6                                    Bayview Village  \n",
       "7                 Bedford Park , Lawrence Manor East  \n",
       "8                                        Berczy Park  \n",
       "9                       Birch Cliff , Cliffside West  "
      ]
     },
     "execution_count": 5,
     "metadata": {},
     "output_type": "execute_result"
    }
   ],
   "source": [
    "# Have a look the data\n",
    "data_df.sort_values('Neighborhood', inplace=True)\n",
    "data_df = data_df.reset_index(drop=True)\n",
    "data_df.head(10)"
   ]
  },
  {
   "cell_type": "code",
   "execution_count": 6,
   "metadata": {},
   "outputs": [
    {
     "name": "stdout",
     "output_type": "stream",
     "text": [
      "Row number of cleaned data: 103\n"
     ]
    }
   ],
   "source": [
    "#Print the row number of the cleaned data\n",
    "print('Row number of cleaned data:', data_df.shape[0])"
   ]
  }
 ],
 "metadata": {
  "kernelspec": {
   "display_name": "Python 3",
   "language": "python",
   "name": "python3"
  },
  "language_info": {
   "codemirror_mode": {
    "name": "ipython",
    "version": 3
   },
   "file_extension": ".py",
   "mimetype": "text/x-python",
   "name": "python",
   "nbconvert_exporter": "python",
   "pygments_lexer": "ipython3",
   "version": "3.6.8"
  }
 },
 "nbformat": 4,
 "nbformat_minor": 2
}
